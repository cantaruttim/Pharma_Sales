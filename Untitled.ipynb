{
 "cells": [
  {
   "cell_type": "code",
   "execution_count": 1,
   "id": "c028b574",
   "metadata": {},
   "outputs": [],
   "source": [
    "import pandas as pd\n",
    "import seaborn as sns\n",
    "import numpy as np\n",
    "import matplotlib.pyplot as plt"
   ]
  },
  {
   "cell_type": "code",
   "execution_count": 10,
   "id": "7504900c",
   "metadata": {},
   "outputs": [],
   "source": [
    "df_daily = pd.read_csv('salesdaily.csv')\n",
    "df_hour = pd.read_csv('saleshourly.csv')\n",
    "df_weekly = pd.read_csv('salesweekly.csv')\n",
    "df_monthly = pd.read_csv('salesmonthly.csv')"
   ]
  },
  {
   "cell_type": "code",
   "execution_count": 11,
   "id": "68e20aae",
   "metadata": {},
   "outputs": [
    {
     "data": {
      "text/plain": [
       "((50532, 13), (2106, 13), (302, 9), (70, 9))"
      ]
     },
     "execution_count": 11,
     "metadata": {},
     "output_type": "execute_result"
    }
   ],
   "source": [
    "df_hour.shape, df_daily.shape, df_weekly.shape, df_monthly.shape"
   ]
  },
  {
   "cell_type": "code",
   "execution_count": null,
   "id": "54c81f49",
   "metadata": {},
   "outputs": [],
   "source": []
  },
  {
   "cell_type": "code",
   "execution_count": null,
   "id": "b15b7217",
   "metadata": {},
   "outputs": [],
   "source": []
  },
  {
   "cell_type": "code",
   "execution_count": null,
   "id": "3c582a31",
   "metadata": {},
   "outputs": [],
   "source": []
  },
  {
   "cell_type": "code",
   "execution_count": null,
   "id": "d33e31bd",
   "metadata": {},
   "outputs": [],
   "source": []
  }
 ],
 "metadata": {
  "kernelspec": {
   "display_name": "Python 3 (ipykernel)",
   "language": "python",
   "name": "python3"
  },
  "language_info": {
   "codemirror_mode": {
    "name": "ipython",
    "version": 3
   },
   "file_extension": ".py",
   "mimetype": "text/x-python",
   "name": "python",
   "nbconvert_exporter": "python",
   "pygments_lexer": "ipython3",
   "version": "3.9.12"
  }
 },
 "nbformat": 4,
 "nbformat_minor": 5
}
