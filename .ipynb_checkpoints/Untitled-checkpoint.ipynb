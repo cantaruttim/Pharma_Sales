{
 "cells": [
  {
   "cell_type": "code",
   "execution_count": 1,
   "id": "6433d1b1",
   "metadata": {},
   "outputs": [],
   "source": [
    "import pandas as pd\n",
    "import seaborn as sns\n",
    "import numpy as np\n",
    "import matplotlib.pyplot as plt"
   ]
  },
  {
   "cell_type": "code",
   "execution_count": 4,
   "id": "f33ef684",
   "metadata": {},
   "outputs": [
    {
     "data": {
      "text/plain": [
       "(2106, 13)"
      ]
     },
     "execution_count": 4,
     "metadata": {},
     "output_type": "execute_result"
    }
   ],
   "source": [
    "df_daily = pd.read_csv('salesdaily.csv')\n",
    "df_daily.shape"
   ]
  },
  {
   "cell_type": "code",
   "execution_count": 5,
   "id": "d6e29505",
   "metadata": {},
   "outputs": [
    {
     "data": {
      "text/plain": [
       "(50532, 13)"
      ]
     },
     "execution_count": 5,
     "metadata": {},
     "output_type": "execute_result"
    }
   ],
   "source": [
    "df_hour = pd.read_csv('saleshourly.csv')\n",
    "df_hour.shape"
   ]
  },
  {
   "cell_type": "code",
   "execution_count": 6,
   "id": "3f39bb8f",
   "metadata": {},
   "outputs": [
    {
     "data": {
      "text/plain": [
       "(302, 9)"
      ]
     },
     "execution_count": 6,
     "metadata": {},
     "output_type": "execute_result"
    }
   ],
   "source": [
    "df_weekly = pd.read_csv('salesweekly.csv')\n",
    "df_weekly.shape"
   ]
  },
  {
   "cell_type": "code",
   "execution_count": 8,
   "id": "0eef5f7b",
   "metadata": {},
   "outputs": [
    {
     "data": {
      "text/plain": [
       "(70, 9)"
      ]
     },
     "execution_count": 8,
     "metadata": {},
     "output_type": "execute_result"
    }
   ],
   "source": [
    "df_monthly = pd.read_csv('salesmonthly.csv')\n",
    "df_monthly.shape"
   ]
  },
  {
   "cell_type": "code",
   "execution_count": null,
   "id": "c8d7c437",
   "metadata": {},
   "outputs": [],
   "source": []
  },
  {
   "cell_type": "code",
   "execution_count": null,
   "id": "5a2b4e61",
   "metadata": {},
   "outputs": [],
   "source": []
  },
  {
   "cell_type": "code",
   "execution_count": null,
   "id": "2a26254d",
   "metadata": {},
   "outputs": [],
   "source": []
  },
  {
   "cell_type": "code",
   "execution_count": null,
   "id": "ddbe78d4",
   "metadata": {},
   "outputs": [],
   "source": []
  },
  {
   "cell_type": "code",
   "execution_count": null,
   "id": "54294d72",
   "metadata": {},
   "outputs": [],
   "source": []
  },
  {
   "cell_type": "code",
   "execution_count": null,
   "id": "22d9b21d",
   "metadata": {},
   "outputs": [],
   "source": []
  }
 ],
 "metadata": {
  "kernelspec": {
   "display_name": "Python 3 (ipykernel)",
   "language": "python",
   "name": "python3"
  },
  "language_info": {
   "codemirror_mode": {
    "name": "ipython",
    "version": 3
   },
   "file_extension": ".py",
   "mimetype": "text/x-python",
   "name": "python",
   "nbconvert_exporter": "python",
   "pygments_lexer": "ipython3",
   "version": "3.9.12"
  }
 },
 "nbformat": 4,
 "nbformat_minor": 5
}
