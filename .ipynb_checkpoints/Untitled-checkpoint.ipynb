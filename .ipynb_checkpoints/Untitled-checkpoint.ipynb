{
 "cells": [
  {
   "cell_type": "code",
   "execution_count": 9,
   "id": "b3d392dc",
   "metadata": {},
   "outputs": [],
   "source": [
    "import pandas as pd\n",
    "import seaborn as sns\n",
    "import numpy as np\n",
    "import matplotlib.pyplot as plt\n",
    "%matplotlib inline"
   ]
  },
  {
   "cell_type": "code",
   "execution_count": 10,
   "id": "e990574b",
   "metadata": {},
   "outputs": [],
   "source": [
    "df_daily = pd.read_csv('salesdaily.csv')\n",
    "df_hour = pd.read_csv('saleshourly.csv')\n",
    "df_weekly = pd.read_csv('salesweekly.csv')\n",
    "df_monthly = pd.read_csv('salesmonthly.csv')"
   ]
  },
  {
   "cell_type": "code",
   "execution_count": 11,
   "id": "324b0d92",
   "metadata": {},
   "outputs": [
    {
     "data": {
      "text/plain": [
       "((50532, 13), (2106, 13), (302, 9), (70, 9))"
      ]
     },
     "execution_count": 11,
     "metadata": {},
     "output_type": "execute_result"
    }
   ],
   "source": [
    "df_hour.shape, df_daily.shape, df_weekly.shape, df_monthly.shape"
   ]
  },
  {
   "cell_type": "code",
   "execution_count": null,
   "id": "fce7e976",
   "metadata": {},
   "outputs": [],
   "source": []
  },
  {
   "cell_type": "code",
   "execution_count": null,
   "id": "305e49a2",
   "metadata": {},
   "outputs": [],
   "source": []
  },
  {
   "cell_type": "code",
   "execution_count": null,
   "id": "26695f04",
   "metadata": {},
   "outputs": [],
   "source": []
  }
 ],
 "metadata": {
  "kernelspec": {
   "display_name": "Python 3 (ipykernel)",
   "language": "python",
   "name": "python3"
  },
  "language_info": {
   "codemirror_mode": {
    "name": "ipython",
    "version": 3
   },
   "file_extension": ".py",
   "mimetype": "text/x-python",
   "name": "python",
   "nbconvert_exporter": "python",
   "pygments_lexer": "ipython3",
   "version": "3.9.12"
  }
 },
 "nbformat": 4,
 "nbformat_minor": 5
}
